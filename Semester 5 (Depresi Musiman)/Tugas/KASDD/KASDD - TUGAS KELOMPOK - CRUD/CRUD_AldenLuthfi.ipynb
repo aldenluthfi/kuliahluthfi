{
 "cells": [
  {
   "cell_type": "markdown",
   "metadata": {},
   "source": [
    "# Classification"
   ]
  },
  {
   "cell_type": "code",
   "execution_count": null,
   "metadata": {},
   "outputs": [],
   "source": [
    "import pandas as pd\n",
    "from matplotlib import pyplot as plt\n",
    "import seaborn as sns\n",
    "from imblearn.under_sampling import *\n",
    "from imblearn.over_sampling import *\n",
    "from sklearn.ensemble import *\n",
    "from sklearn.neighbors import *\n",
    "from sklearn.feature_selection import *\n",
    "\n",
    "\n",
    "df = pd.read_csv('company_train.csv').drop([\"ID\", \"retained_earnings\"], axis=1)\n",
    "\n",
    "df.info()"
   ]
  },
  {
   "cell_type": "code",
   "execution_count": 2,
   "metadata": {},
   "outputs": [],
   "source": [
    "df['net_profit_margin_category'] = df['net_profit_margin_category'].map({'Low Profit Margin': 0, 'Healthy Profit Margin': 1, 'High Profit Margin': 2})\n",
    "df['status_label'] = df['status_label'].map({'alive': 1, 'failed': 0})"
   ]
  },
  {
   "cell_type": "code",
   "execution_count": 3,
   "metadata": {},
   "outputs": [],
   "source": [
    "anchor1 = \"gross_profit\"\n",
    "anchor2 = \"market_value\"\n",
    "anchor3 = \"gross_profit\"\n",
    "anchor4 = \"total_long_term_debt\"\n",
    "\n",
    "rolling_n = 3\n",
    "df[f'{anchor1}_moving_avg'] = df.groupby('company_name')[anchor1].transform(lambda x: x.rolling(rolling_n, 1).mean())\n",
    "df[f'{anchor2}_moving_avg'] = df.groupby('company_name')[anchor2].transform(lambda x: x.rolling(rolling_n, 1).mean())\n",
    "df[f'{anchor3}_moving_avg'] = df.groupby('company_name')[anchor3].transform(lambda x: x.rolling(rolling_n, 1).mean())\n",
    "df[f'{anchor4}_moving_avg'] = df.groupby('company_name')[anchor4].transform(lambda x: x.rolling(rolling_n, 1).mean())\n",
    "df.drop('company_name', axis=1, inplace=True)"
   ]
  },
  {
   "cell_type": "code",
   "execution_count": null,
   "metadata": {},
   "outputs": [],
   "source": [
    "print(len(df[df[\"net_profit_margin_category\"] == 0].index))\n",
    "print(len(df[df[\"net_profit_margin_category\"] == 1].index))\n",
    "print(len(df[df[\"net_profit_margin_category\"] == 2].index))\n"
   ]
  },
  {
   "cell_type": "code",
   "execution_count": null,
   "metadata": {},
   "outputs": [],
   "source": [
    "columns_checked = df.columns.difference([\"net_profit_margin_category\", anchor1, \"status_label\", \"current_ratio\"])\n",
    "\n",
    "for c in columns_checked:\n",
    "    a = c\n",
    "    b = anchor1\n",
    "\n",
    "    data = df[[a, b, \"net_profit_margin_category\"]]\n",
    "    display(data)\n",
    "\n",
    "    plt.figure(figsize=(8, 6))\n",
    "    plt.scatter(data[data[\"net_profit_margin_category\"] == 3][a],data[data[\"net_profit_margin_category\"] == 3][b], label='High Profit Margin', alpha=0.5)\n",
    "    plt.scatter(data[data[\"net_profit_margin_category\"] == 2][a],data[data[\"net_profit_margin_category\"] == 2][b], label='Healthy Profit Margin', alpha=0.5)\n",
    "    plt.scatter(data[data[\"net_profit_margin_category\"] == 1][a],data[data[\"net_profit_margin_category\"] == 1][b], label='Low Profit Margin', alpha=0.5)\n",
    "    plt.xlabel(a)\n",
    "    plt.ylabel(b)\n",
    "    plt.legend()\n",
    "    plt.show()"
   ]
  },
  {
   "cell_type": "code",
   "execution_count": null,
   "metadata": {},
   "outputs": [],
   "source": [
    "no_year_all_numerics = df.drop([\"year\", \"net_profit_margin_category\"], axis=1)\n",
    "\n",
    "corr = no_year_all_numerics.corr()\n",
    "sns.heatmap(corr,\n",
    "            xticklabels=corr.columns.values,\n",
    "            yticklabels=corr.columns.values)"
   ]
  },
  {
   "cell_type": "code",
   "execution_count": 8,
   "metadata": {},
   "outputs": [],
   "source": [
    "X = df.drop([\"net_profit_margin_category\"], axis=1)\n",
    "y = df[\"net_profit_margin_category\"]"
   ]
  },
  {
   "cell_type": "code",
   "execution_count": 9,
   "metadata": {},
   "outputs": [],
   "source": [
    "kbest = SelectKBest(score_func=f_classif, k=15)\n",
    "\n",
    "kbest.fit_transform(X, y)\n",
    "\n",
    "X = X[kbest.get_feature_names_out()]"
   ]
  },
  {
   "cell_type": "code",
   "execution_count": 10,
   "metadata": {},
   "outputs": [],
   "source": [
    "paramslg = {\n",
    "    'objective': 'multiclass',\n",
    "    'num_class': 3,\n",
    "    'metric': 'multi_logloss',\n",
    "    'learning_rate': 0.1,\n",
    "    'num_leaves': 40,\n",
    "    'max_depth': -1,\n",
    "    'class_weight': {0: 1, 1: 1.25, 2: 1.25},\n",
    "}\n",
    "\n",
    "lgbm = lgb.LGBMClassifier(**paramslg, verbose=0)"
   ]
  },
  {
   "cell_type": "code",
   "execution_count": null,
   "metadata": {},
   "outputs": [],
   "source": [
    "from sklearn.model_selection import StratifiedKFold\n",
    "from sklearn.model_selection import cross_val_score\n",
    "\n",
    "skf = StratifiedKFold(n_splits=5)\n",
    "\n",
    "display(cross_val_score(lgbm, X, y, cv=skf, scoring='accuracy', verbose=3).mean())\n",
    "display(cross_val_score(lgbm, X, y, cv=skf, scoring='f1_macro', verbose=3).mean())"
   ]
  },
  {
   "cell_type": "code",
   "execution_count": null,
   "metadata": {},
   "outputs": [],
   "source": [
    "test = pd.read_csv('company_test_classif.csv')\n",
    "\n",
    "test_x = test.drop([\"ID\"], axis=1)\n",
    "id = test[\"ID\"]\n",
    "\n",
    "test_x[f'{anchor1}_moving_avg'] = test_x.groupby('company_name')[anchor1].transform(lambda x: x.rolling(rolling_n, 1).mean())\n",
    "test_x[f'{anchor2}_moving_avg'] = test_x.groupby('company_name')[anchor2].transform(lambda x: x.rolling(rolling_n, 1).mean())\n",
    "test_x[f'{anchor3}_moving_avg'] = test_x.groupby('company_name')[anchor3].transform(lambda x: x.rolling(rolling_n, 1).mean())\n",
    "test_x[f'{anchor4}_moving_avg'] = test_x.groupby('company_name')[anchor4].transform(lambda x: x.rolling(rolling_n, 1).mean())\n",
    "test_x.drop('company_name', axis=1, inplace=True)\n",
    "\n",
    "test_x['status_label'] = test_x['status_label'].map({'alive': 1, 'failed': 0})\n",
    "\n",
    "lgbm.fit(X, y)\n",
    "\n",
    "y = pd.Series(lgbm.predict(test_x[X.columns])).map({0: 'Low Profit Margin', 1: 'Healthy Profit Margin', 2: 'High Profit Margin'})\n",
    "\n",
    "prediction = pd.concat([id, y], axis=1).rename(columns={0: 'net_profit_margin_category'})\n",
    "\n",
    "display(prediction)\n",
    "\n",
    "prediction.to_csv('submit.csv', index=False)"
   ]
  },
  {
   "cell_type": "code",
   "execution_count": null,
   "metadata": {},
   "outputs": [],
   "source": [
    "s1 = pd.read_csv('submit.csv')\n",
    "s2 = pd.read_csv('85.csv')\n",
    "\n",
    "s1.compare(s2)"
   ]
  },
  {
   "cell_type": "markdown",
   "metadata": {},
   "source": [
    "# Regression"
   ]
  },
  {
   "cell_type": "code",
   "execution_count": null,
   "metadata": {},
   "outputs": [],
   "source": [
    "import pandas as pd\n",
    "from imblearn.under_sampling import *\n",
    "from imblearn.over_sampling import *\n",
    "from sklearn.ensemble import *\n",
    "from sklearn.neighbors import *\n",
    "from sklearn.feature_selection import *\n",
    "\n",
    "\n",
    "df = pd.read_csv('company_train.csv').drop([\"ID\", \"net_profit_margin_category\"], axis=1)\n",
    "\n",
    "df.info()"
   ]
  },
  {
   "cell_type": "code",
   "execution_count": null,
   "metadata": {},
   "outputs": [],
   "source": [
    "df['status_label'] = df['status_label'].map({'alive': 1, 'failed': 0})"
   ]
  },
  {
   "cell_type": "code",
   "execution_count": null,
   "metadata": {},
   "outputs": [],
   "source": [
    "anchor1 = \"gross_profit\"\n",
    "anchor2 = \"market_value\"\n",
    "anchor3 = \"gross_profit\"\n",
    "anchor4 = \"total_long_term_debt\"\n",
    "\n",
    "rolling_n = 3\n",
    "df[f'{anchor1}_moving_avg'] = df.groupby('company_name')[anchor1].transform(lambda x: x.rolling(rolling_n, 1).mean())\n",
    "df[f'{anchor2}_moving_avg'] = df.groupby('company_name')[anchor2].transform(lambda x: x.rolling(rolling_n, 1).mean())\n",
    "df[f'{anchor3}_moving_avg'] = df.groupby('company_name')[anchor3].transform(lambda x: x.rolling(rolling_n, 1).mean())\n",
    "df[f'{anchor4}_moving_avg'] = df.groupby('company_name')[anchor4].transform(lambda x: x.rolling(rolling_n, 1).mean())\n",
    "\n",
    "df['net_sales'] = df['net_sales'].replace(0, 1e-6)\n",
    "df['total_assets'] = df['total_assets'].replace(0, 1e-6)\n",
    "df['total_assets_minus_liabilities'] = df['total_assets_minus_liabilities'] = df['total_assets'] - df['total_liabilities']\n",
    "df['total_assets_minus_liabilities'] = df['total_assets_minus_liabilities'].replace(0, 1e-6)\n",
    "df['total_receivables'] = df['total_receivables'].replace(0, 1e-6)\n",
    "\n",
    "df['gross_profit_margin'] = df['gross_profit'] / df['net_sales']\n",
    "df['ebitda_margin'] = df['ebitda'] / df['net_sales']\n",
    "df['ebit_margin'] = df['ebit'] / df['net_sales']\n",
    "df['asset_turnover'] = df['net_sales'] / df['total_assets']\n",
    "df['debt_to_equity'] = df['total_liabilities'] / df['total_assets_minus_liabilities']\n",
    "df['receivables_turnover'] = df['net_sales'] / df['total_receivables']\n",
    "df['operating_expense_ratio'] = df['total_operating_expenses'] / df['net_sales']\n",
    "df['depreciation_amortization_ratio'] = df['depreciation_and_amortization'] / df['total_assets']\n",
    "df.drop(['total_assets_minus_liabilities'], axis=1)\n",
    "\n",
    "df = pd.get_dummies(df, columns=['company_name'])"
   ]
  },
  {
   "cell_type": "code",
   "execution_count": null,
   "metadata": {},
   "outputs": [],
   "source": [
    "df"
   ]
  },
  {
   "cell_type": "code",
   "execution_count": null,
   "metadata": {},
   "outputs": [],
   "source": [
    "test = pd.read_csv('company_test_regress.csv')\n",
    "\n",
    "test_x = test.drop([\"ID\"], axis=1)\n",
    "id = test[\"ID\"]\n",
    "\n",
    "test_x[f'{anchor1}_moving_avg'] = test_x.groupby('company_name')[anchor1].transform(lambda x: x.rolling(rolling_n, 1).mean())\n",
    "test_x[f'{anchor2}_moving_avg'] = test_x.groupby('company_name')[anchor2].transform(lambda x: x.rolling(rolling_n, 1).mean())\n",
    "test_x[f'{anchor3}_moving_avg'] = test_x.groupby('company_name')[anchor3].transform(lambda x: x.rolling(rolling_n, 1).mean())\n",
    "test_x[f'{anchor4}_moving_avg'] = test_x.groupby('company_name')[anchor4].transform(lambda x: x.rolling(rolling_n, 1).mean())\n",
    "test_x['status_label'] = test_x['status_label'].map({'alive': 1, 'failed': 0})\n",
    "\n",
    "test_x['net_sales'] = test_x['net_sales'].replace(0, 1e-6)\n",
    "test_x['total_assets'] = test_x['total_assets'].replace(0, 1e-6)\n",
    "test_x['total_assets_minus_liabilities'] = test_x['total_assets_minus_liabilities'] = test_x['total_assets'] - test_x['total_liabilities']\n",
    "test_x['total_assets_minus_liabilities'] = test_x['total_assets_minus_liabilities'].replace(0, 1e-6)\n",
    "test_x['total_receivables'] = test_x['total_receivables'].replace(0, 1e-6)\n",
    "\n",
    "test_x['gross_profit_margin'] = test_x['gross_profit'] / test_x['net_sales']\n",
    "test_x['ebitda_margin'] = test_x['ebitda'] / test_x['net_sales']\n",
    "test_x['ebit_margin'] = test_x['ebit'] / test_x['net_sales']\n",
    "test_x['asset_turnover'] = test_x['net_sales'] / test_x['total_assets']\n",
    "test_x['debt_to_equity'] = test_x['total_liabilities'] / test_x['total_assets_minus_liabilities']\n",
    "\n",
    "test_x['receivables_turnover'] = test_x['net_sales'] / test_x['total_receivables']\n",
    "test_x['operating_expense_ratio'] = test_x['total_operating_expenses'] / test_x['net_sales']\n",
    "test_x['depreciation_amortization_ratio'] = test_x['depreciation_and_amortization'] / test_x['total_assets']\n",
    "test_x.drop(['total_assets_minus_liabilities'], axis=1)\n",
    "\n",
    "test_x = pd.get_dummies(test_x, columns=['company_name'])"
   ]
  },
  {
   "cell_type": "code",
   "execution_count": null,
   "metadata": {},
   "outputs": [],
   "source": [
    "X = df.drop([\"retained_earnings\"], axis=1)\n",
    "y = df[\"retained_earnings\"]"
   ]
  },
  {
   "cell_type": "code",
   "execution_count": null,
   "metadata": {},
   "outputs": [],
   "source": [
    "X, test_x = X.align(test_x, join='left', axis=1, fill_value=0)\n",
    "\n",
    "missing_cols = set(X.columns) - set(test_x.columns)\n",
    "for col in missing_cols:\n",
    "    test_x[col] = 0\n",
    "\n",
    "test_x = test_x[X.columns]\n",
    "\n",
    "display(X)\n",
    "display(test_x)"
   ]
  },
  {
   "cell_type": "code",
   "execution_count": null,
   "metadata": {},
   "outputs": [],
   "source": [
    "rfr = ExtraTreesRegressor(n_jobs=-1, verbose=3)\n",
    "rfr.fit(X, y)"
   ]
  },
  {
   "cell_type": "code",
   "execution_count": null,
   "metadata": {},
   "outputs": [],
   "source": [
    "y = pd.Series(rfr.predict(test_x[X.columns]), name='retained_earnings')\n",
    "\n",
    "prediction = pd.concat([id, y], axis=1)\n",
    "\n",
    "display(prediction)\n",
    "\n",
    "prediction.to_csv('submit.csv', index=False)"
   ]
  },
  {
   "cell_type": "code",
   "execution_count": null,
   "metadata": {},
   "outputs": [],
   "source": [
    "s1 = pd.read_csv('submit.csv')\n",
    "s2 = pd.read_csv('82.csv')\n",
    "\n",
    "print(s1.compare(s2).to_string())"
   ]
  },
  {
   "cell_type": "markdown",
   "metadata": {},
   "source": [
    "# Clustering"
   ]
  },
  {
   "cell_type": "code",
   "execution_count": null,
   "metadata": {},
   "outputs": [],
   "source": [
    "import pandas as pd\n",
    "from matplotlib import pyplot as plt\n",
    "from imblearn.under_sampling import *\n",
    "from imblearn.over_sampling import *\n",
    "from sklearn.ensemble import *\n",
    "from sklearn.neighbors import *\n",
    "from sklearn.feature_selection import *\n",
    "import scipy.cluster.hierarchy as shc\n",
    "import numpy as np\n",
    "\n",
    "\n",
    "df = pd.read_csv('company_train.csv').drop([\"ID\", \"retained_earnings\"], axis=1)\n",
    "\n",
    "df.info()"
   ]
  },
  {
   "cell_type": "code",
   "execution_count": 50,
   "metadata": {},
   "outputs": [],
   "source": [
    "df['status_label'] = df['status_label'].map({'alive': 1, 'failed': 0})\n",
    "df['net_profit_margin_category'] = df['net_profit_margin_category'].map({'Low Profit Margin': 0, 'Healthy Profit Margin': 1, 'High Profit Margin': 2})\n",
    "df['company_name'] = df['company_name'].map({k: v for v, k in enumerate(df['company_name'].unique())})"
   ]
  },
  {
   "cell_type": "code",
   "execution_count": 51,
   "metadata": {},
   "outputs": [],
   "source": [
    "from sklearn.cluster import AgglomerativeClustering\n",
    "\n",
    "aggc = AgglomerativeClustering(linkage='single', compute_distances=True)"
   ]
  },
  {
   "cell_type": "code",
   "execution_count": 52,
   "metadata": {},
   "outputs": [],
   "source": [
    "clusters = aggc.fit(df)"
   ]
  },
  {
   "cell_type": "code",
   "execution_count": 53,
   "metadata": {},
   "outputs": [],
   "source": [
    "def plot_dendrogram(model, **kwargs):\n",
    "    counts = np.zeros(model.children_.shape[0])\n",
    "    n_samples = len(model.labels_)\n",
    "    for i, merge in enumerate(model.children_):\n",
    "        current_count = 0\n",
    "        for child_idx in merge:\n",
    "            if child_idx < n_samples:\n",
    "                current_count += 1  # leaf node\n",
    "            else:\n",
    "                current_count += counts[child_idx - n_samples]\n",
    "        counts[i] = current_count\n",
    "    linkage_matrix = np.column_stack(\n",
    "        [model.children_, model.distances_, counts]\n",
    "    ).astype(float)\n",
    "\n",
    "    shc.dendrogram(linkage_matrix, **kwargs)"
   ]
  },
  {
   "cell_type": "code",
   "execution_count": null,
   "metadata": {},
   "outputs": [],
   "source": [
    "plt.figure(figsize=(10, 5))\n",
    "plt.grid(False)\n",
    "plot_dendrogram(aggc, truncate_mode='level', p=30)\n",
    "plt.show()"
   ]
  }
 ],
 "metadata": {
  "kernelspec": {
   "display_name": "Python 3",
   "language": "python",
   "name": "python3"
  },
  "language_info": {
   "codemirror_mode": {
    "name": "ipython",
    "version": 3
   },
   "file_extension": ".py",
   "mimetype": "text/x-python",
   "name": "python",
   "nbconvert_exporter": "python",
   "pygments_lexer": "ipython3",
   "version": "3.12.1"
  }
 },
 "nbformat": 4,
 "nbformat_minor": 2
}
